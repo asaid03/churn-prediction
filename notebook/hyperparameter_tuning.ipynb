{
 "cells": [
  {
   "cell_type": "markdown",
   "metadata": {},
   "source": [
    "# Hyper Parameter tuning:"
   ]
  },
  {
   "cell_type": "code",
   "execution_count": null,
   "metadata": {},
   "outputs": [],
   "source": [
    "import sys\n",
    "import os\n",
    "import pandas as pd\n",
    "sys.path.append(os.path.abspath(os.path.join(os.getcwd(), \"..\")))\n",
    "\n",
    "from models.logistic_regression import LogisticRegression\n",
    "from models.weighted_lr import WeightedLogisticRegression\n",
    "from models.random_forest import RandomForest\n",
    "from evaluator.model_evaluator import ModelEvaluator\n",
    "from training.crossval import CrossValidator\n",
    "\n",
    "X_train = pd.read_csv('../dataset/X_train.csv').values\n",
    "X_test = pd.read_csv('../dataset/X_test.csv').values\n",
    "y_train = pd.read_csv('../dataset/y_train.csv').values.ravel()\n",
    "y_test = pd.read_csv('../dataset/y_test.csv').values.ravel()"
   ]
  },
  {
   "cell_type": "code",
   "execution_count": 46,
   "metadata": {},
   "outputs": [],
   "source": [
    "param_grid_lr = {\n",
    "    'eta': [0.0001,0.001, 0.01],\n",
    "    'lambda_reg': [0.0, 0.01,0.001,],\n",
    "    'epochs': [100,500,750,1000]\n",
    "}\n",
    "\n",
    "param_grid_wlr = {\n",
    "    'eta': [0.0001,0.001, 0.01],\n",
    "    'lambda_reg': [0.0, 0.01],\n",
    "    'epochs': [100,500,750,1000],\n",
    "    'class_weights': [{0: 1, 1: 5}, {0: 1, 1: 10},{0:1, 1:1}]\n",
    "}\n",
    "\n",
    "param_grid_rf = {\n",
    "    'n_estimators': [5, 10, 25, 50],\n",
    "    'max_depth': [5, 10, 20],\n",
    "    'min_samples_split': [2, 4, 8]\n",
    "}\n"
   ]
  },
  {
   "cell_type": "markdown",
   "metadata": {},
   "source": [
    "#### Parameter tuning logistic Regression"
   ]
  },
  {
   "cell_type": "code",
   "execution_count": 32,
   "metadata": {},
   "outputs": [
    {
     "name": "stdout",
     "output_type": "stream",
     "text": [
      "Best Parameters: {'epochs': 500, 'eta': 0.0001, 'lambda_reg': 0.0}\n",
      "Best F2 Score: 0.7407407407407408\n"
     ]
    }
   ],
   "source": [
    "from sklearn.model_selection import ParameterGrid\n",
    "\n",
    "best_params = None\n",
    "best_f2_score = 0.0\n",
    "\n",
    "for params in ParameterGrid(param_grid_lr):\n",
    "    lr = LogisticRegression(eta=params['eta'], epochs=params['epochs'], lambda_reg=params['lambda_reg'])\n",
    "    lr.fit(X_train, y_train)\n",
    "    y_pred = lr.predict(X_test)\n",
    "    metrics = ModelEvaluator.calculate_metrics(y_test, y_pred)\n",
    "    \n",
    "    if metrics['f2_score'] > best_f2_score:\n",
    "        best_f2_score = metrics['f2_score']\n",
    "        best_params = params\n",
    "\n",
    "print(\"Best Parameters:\", best_params)\n",
    "print(\"Best F2 Score:\", best_f2_score)"
   ]
  },
  {
   "cell_type": "markdown",
   "metadata": {},
   "source": [
    "- After my own further tweaks i will use (lr = LogisticRegression(eta=0.0001, epochs=1000, lambda_reg=0.01))  just so i dont sacrifice accuracy/precision too much"
   ]
  },
  {
   "cell_type": "code",
   "execution_count": 50,
   "metadata": {},
   "outputs": [
    {
     "name": "stdout",
     "output_type": "stream",
     "text": [
      "LR Test Metrics: {'accuracy': np.float64(0.7009943181818182), 'precision': np.float64(0.46474820143884893), 'recall': np.float64(0.8682795698924731), 'f1_score': np.float64(0.60543580131209), 'f2_score': np.float64(0.7398076042143839)}\n"
     ]
    }
   ],
   "source": [
    "lr = LogisticRegression(eta=0.0001, epochs=1000, lambda_reg=0.01)\n",
    "lr.fit(X_train, y_train)\n",
    "y_pred = lr.predict(X_test)\n",
    "metrics = ModelEvaluator.calculate_metrics(y_test, y_pred)\n",
    "print(\"LR Test Metrics:\", metrics)"
   ]
  },
  {
   "cell_type": "markdown",
   "metadata": {},
   "source": [
    "#### Parameter tuning Weighted logistic regression"
   ]
  },
  {
   "cell_type": "code",
   "execution_count": 47,
   "metadata": {},
   "outputs": [
    {
     "name": "stdout",
     "output_type": "stream",
     "text": [
      "Best Parameters for WLR: {'class_weights': {0: 1, 1: 10}, 'epochs': 1000, 'eta': 0.01, 'lambda_reg': 0.0}\n",
      "Best F2 Score for WLR: 0.75\n"
     ]
    }
   ],
   "source": [
    "best_params_wlr = None\n",
    "best_f2_score_wlr = 0.0\n",
    "\n",
    "for params in ParameterGrid(param_grid_wlr):\n",
    "    wlr = WeightedLogisticRegression(\n",
    "        eta=params['eta'],\n",
    "        epochs=params['epochs'],\n",
    "        lambda_reg=params['lambda_reg'],\n",
    "        class_weights=params['class_weights']\n",
    "    )\n",
    "    wlr.fit(X_train, y_train)\n",
    "    y_pred = wlr.predict(X_test)\n",
    "    metrics = ModelEvaluator.calculate_metrics(y_test, y_pred)\n",
    "    \n",
    "    if metrics['f2_score'] > best_f2_score_wlr:\n",
    "        best_f2_score_wlr = metrics['f2_score']\n",
    "        best_params_wlr = params\n",
    "\n",
    "print(\"Best Parameters for WLR:\", best_params_wlr)\n",
    "print(\"Best F2 Score for WLR:\", best_f2_score_wlr)"
   ]
  },
  {
   "cell_type": "code",
   "execution_count": null,
   "metadata": {},
   "outputs": [
    {
     "name": "stdout",
     "output_type": "stream",
     "text": [
      "{'accuracy': np.float64(0.6633522727272727), 'precision': np.float64(0.4346153846153846), 'recall': np.float64(0.9112903225806451), 'f1_score': np.float64(0.5885416666666666), 'f2_score': np.float64(0.7473544973544973)}\n",
      "{'accuracy': np.float64(0.6818181818181818), 'precision': np.float64(0.44878706199460916), 'recall': np.float64(0.8951612903225806), 'f1_score': np.float64(0.5978456014362658), 'f2_score': np.float64(0.7466367713004484)}\n"
     ]
    }
   ],
   "source": [
    "cw = {0: 1, 1: 10}\n",
    "wlr = WeightedLogisticRegression(eta = 0.001,epochs=1000, lambda_reg = 0.0,class_weights= cw)\n",
    "wlr.fit(X_train, y_train)\n",
    "y_pred = wlr.predict(X_test)\n",
    "metrics = ModelEvaluator.calculate_metrics(y_test, y_pred)\n",
    "print(metrics)\n",
    "\n",
    "cw = {0: 1, 1: 5}\n",
    "wlr = WeightedLogisticRegression(eta = 0.01,epochs=1000, lambda_reg = 0,class_weights= cw)\n",
    "wlr.fit(X_train, y_train)\n",
    "y_pred = wlr.predict(X_test)\n",
    "metrics = ModelEvaluator.calculate_metrics(y_test, y_pred)\n",
    "print(metrics)"
   ]
  },
  {
   "cell_type": "markdown",
   "metadata": {},
   "source": [
    "- i will use :cw = {0: 1, 1: 10} : eta = 0.001,epochs=1000, lambda_reg = 0.0,"
   ]
  },
  {
   "cell_type": "code",
   "execution_count": 52,
   "metadata": {},
   "outputs": [
    {
     "name": "stdout",
     "output_type": "stream",
     "text": [
      "LR Mean Metrics: {'accuracy': np.float64(0.6931922797888574), 'precision': np.float64(0.4583261271346162), 'recall': np.float64(0.8429953879688474), 'f1_score': np.float64(0.5930347347557381), 'f2_score': np.float64(0.7209470827987887)}\n"
     ]
    }
   ],
   "source": [
    "lr = LogisticRegression(eta=0.0001, epochs=1000, lambda_reg=0.01)\n",
    "lr_cv_results = CrossValidator.cross_validate(lr, X_train, y_train, folds=10, random_state=42)\n",
    "print(\"LR Mean Metrics:\", lr_cv_results['mean_metrics'])"
   ]
  },
  {
   "cell_type": "markdown",
   "metadata": {},
   "source": [
    "##### Random forest"
   ]
  },
  {
   "cell_type": "code",
   "execution_count": null,
   "metadata": {},
   "outputs": [],
   "source": [
    "best_params_rf = None\n",
    "best_f2_score_rf = 0.0\n",
    "\n",
    "for params in ParameterGrid(param_grid_rf):\n",
    "    rf = RandomForest(\n",
    "        n_estimators=params['n_estimators'],\n",
    "        max_depth=params['max_depth'],\n",
    "        min_samples_split=params['min_samples_split']\n",
    "    )\n",
    "    rf.fit(X_train, y_train)\n",
    "    y_pred = rf.predict(X_test)\n",
    "    metrics = ModelEvaluator.calculate_metrics(y_test, y_pred)\n",
    "    \n",
    "    if metrics['f2_score'] > best_f2_score_rf:\n",
    "        best_f2_score_rf = metrics['f2_score']\n",
    "        best_params_rf = params\n",
    "\n",
    "print(\"Best Parameters for RF:\", best_params_rf)\n",
    "print(\"Best F2 Score for RF:\", best_f2_score_rf)"
   ]
  },
  {
   "cell_type": "code",
   "execution_count": 55,
   "metadata": {},
   "outputs": [
    {
     "name": "stdout",
     "output_type": "stream",
     "text": [
      "Random Forest Metrics: {'accuracy': np.float64(0.7982954545454546), 'precision': np.float64(0.6527777777777778), 'recall': np.float64(0.5053763440860215), 'f1_score': np.float64(0.5696969696969698), 'f2_score': np.float64(0.5292792792792793)}\n"
     ]
    }
   ],
   "source": [
    "rf = RandomForest(n_estimators=10, max_depth=10, min_samples_split=2)\n",
    "rf.fit(X_train, y_train)\n",
    "y_pred = rf.predict(X_test)\n",
    "metrics = ModelEvaluator.calculate_metrics(y_test, y_pred)\n",
    "print(\"Random Forest Metrics:\", metrics)"
   ]
  },
  {
   "cell_type": "code",
   "execution_count": 56,
   "metadata": {},
   "outputs": [
    {
     "name": "stdout",
     "output_type": "stream",
     "text": [
      "Random Forest Metrics: {'accuracy': np.float64(0.7876420454545454), 'precision': np.float64(0.6327272727272727), 'recall': np.float64(0.46774193548387094), 'f1_score': np.float64(0.5378670788253477), 'f2_score': np.float64(0.4934770277935337)}\n"
     ]
    }
   ],
   "source": [
    "rf = RandomForest(n_estimators=50, max_depth=None, min_samples_split=2)\n",
    "rf.fit(X_train, y_train)\n",
    "y_pred = rf.predict(X_test)\n",
    "metrics = ModelEvaluator.calculate_metrics(y_test, y_pred)\n",
    "print(\"Random Forest Metrics:\", metrics)"
   ]
  },
  {
   "cell_type": "code",
   "execution_count": 59,
   "metadata": {},
   "outputs": [
    {
     "name": "stdout",
     "output_type": "stream",
     "text": [
      "Random Forest Metrics: {'accuracy': np.float64(0.8061079545454546), 'precision': np.float64(0.6601941747572816), 'recall': np.float64(0.5483870967741935), 'f1_score': np.float64(0.5991189427312775), 'f2_score': np.float64(0.5676126878130217)}\n"
     ]
    }
   ],
   "source": [
    "rf = RandomForest(n_estimators=100, max_depth=10, min_samples_split=2)\n",
    "rf.fit(X_train, y_train)\n",
    "y_pred = rf.predict(X_test)\n",
    "metrics = ModelEvaluator.calculate_metrics(y_test, y_pred)\n",
    "print(\"Random Forest Metrics:\", metrics)"
   ]
  }
 ],
 "metadata": {
  "kernelspec": {
   "display_name": "venv",
   "language": "python",
   "name": "python3"
  },
  "language_info": {
   "codemirror_mode": {
    "name": "ipython",
    "version": 3
   },
   "file_extension": ".py",
   "mimetype": "text/x-python",
   "name": "python",
   "nbconvert_exporter": "python",
   "pygments_lexer": "ipython3",
   "version": "3.11.1"
  }
 },
 "nbformat": 4,
 "nbformat_minor": 2
}
