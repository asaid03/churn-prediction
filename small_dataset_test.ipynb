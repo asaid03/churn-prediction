{
 "cells": [
  {
   "cell_type": "markdown",
   "metadata": {},
   "source": [
    "# Testing my models against Iris Dataset and comapre With Sklearn models\n"
   ]
  },
  {
   "cell_type": "markdown",
   "metadata": {},
   "source": [
    "## Imports"
   ]
  },
  {
   "cell_type": "code",
   "execution_count": 57,
   "metadata": {},
   "outputs": [],
   "source": [
    "import numpy as np\n",
    "from sklearn.datasets import load_iris\n",
    "\n",
    "from sklearn.model_selection import train_test_split\n",
    "from sklearn.tree import DecisionTreeClassifier\n",
    "from sklearn.neighbors import KNeighborsClassifier\n",
    "from evaluator.model_evaluator import ModelEvaluator\n",
    "\n",
    "from models.knn import Conformal,NearestNeighbours\n",
    "from models.decision_tree import DecisionTree\n",
    "\n",
    "from evaluator.model_evaluator import ModelEvaluator\n"
   ]
  },
  {
   "cell_type": "markdown",
   "metadata": {},
   "source": [
    "#### Splitting and loading iris dataset"
   ]
  },
  {
   "cell_type": "code",
   "execution_count": 58,
   "metadata": {},
   "outputs": [],
   "source": [
    "# Load the Iris dataset\n",
    "iris = load_iris()\n",
    "X, y = iris.data, iris.target\n",
    "\n",
    "# Split the dataset into training and testing sets\n",
    "X_train, X_test, y_train, y_test = train_test_split(X, y, test_size=0.3, random_state=42)"
   ]
  },
  {
   "cell_type": "markdown",
   "metadata": {},
   "source": [
    "### SKLEARN KNN"
   ]
  },
  {
   "cell_type": "code",
   "execution_count": 59,
   "metadata": {},
   "outputs": [
    {
     "name": "stdout",
     "output_type": "stream",
     "text": [
      "Metrics for sklearn KNN: {'accuracy': 1.0, 'precision': 1.0, 'recall': 1.0, 'f1_score': 1.0, 'f2_score': 1.0}\n"
     ]
    },
    {
     "name": "stderr",
     "output_type": "stream",
     "text": [
      "c:\\Users\\asaid\\anaconda3\\lib\\site-packages\\sklearn\\neighbors\\_classification.py:228: FutureWarning: Unlike other reduction functions (e.g. `skew`, `kurtosis`), the default behavior of `mode` typically preserves the axis it acts along. In SciPy 1.11.0, this behavior will change: the default value of `keepdims` will become False, the `axis` over which the statistic is taken will be eliminated, and the value None will no longer be accepted. Set `keepdims` to True or False to avoid this warning.\n",
      "  mode, _ = stats.mode(_y[neigh_ind, k], axis=1)\n"
     ]
    }
   ],
   "source": [
    "knn_classifier = KNeighborsClassifier(n_neighbors=1)\n",
    "knn_classifier.fit(X_train, y_train)\n",
    "\n",
    "# Make predictions\n",
    "y_pred = knn_classifier.predict(X_test)\n",
    "# Evaluate the model\n",
    "metrics = ModelEvaluator.calculate_metrics(y_test, y_pred)\n",
    "print(f\"Metrics for sklearn KNN: {metrics}\")"
   ]
  },
  {
   "cell_type": "markdown",
   "metadata": {},
   "source": [
    "### MY KNN model"
   ]
  },
  {
   "cell_type": "code",
   "execution_count": 60,
   "metadata": {},
   "outputs": [
    {
     "name": "stdout",
     "output_type": "stream",
     "text": [
      "Metrics for sklearn KNN: {'accuracy': 1.0, 'precision': 1.0, 'recall': 1.0, 'f1_score': 1.0, 'f2_score': 1.0}\n"
     ]
    },
    {
     "name": "stderr",
     "output_type": "stream",
     "text": [
      "c:\\Users\\asaid\\anaconda3\\lib\\site-packages\\sklearn\\neighbors\\_classification.py:228: FutureWarning: Unlike other reduction functions (e.g. `skew`, `kurtosis`), the default behavior of `mode` typically preserves the axis it acts along. In SciPy 1.11.0, this behavior will change: the default value of `keepdims` will become False, the `axis` over which the statistic is taken will be eliminated, and the value None will no longer be accepted. Set `keepdims` to True or False to avoid this warning.\n",
      "  mode, _ = stats.mode(_y[neigh_ind, k], axis=1)\n"
     ]
    }
   ],
   "source": [
    "knn_model = NearestNeighbours(neighbours=1)\n",
    "knn_model.fit(X_train, y_train)\n",
    "\n",
    "# Make predictions\n",
    "y_pred = knn_classifier.predict(X_test)\n",
    "# Evaluate the model\n",
    "metrics = ModelEvaluator.calculate_metrics(y_test, y_pred)\n",
    "print(f\"Metrics for sklearn KNN: {metrics}\")"
   ]
  },
  {
   "cell_type": "markdown",
   "metadata": {},
   "source": [
    "### Model Validation Summary\n",
    "\n",
    "The custom KNN model was validated against scikit-learn's KNN implementation on the Iris dataset. Both models produced identical metrics:\n",
    "\n",
    "- **Accuracy**: 1.0  \n",
    "- **Precision**: 1.0  \n",
    "- **Recall**: 1.0  \n",
    "- **F1-Score**: 1.0  \n",
    "- **F2-Score**: 1.0  \n",
    "\n",
    "This confirms the correctness of my KNN model implementation.\n"
   ]
  },
  {
   "cell_type": "markdown",
   "metadata": {},
   "source": [
    "### Sklearn DT model"
   ]
  },
  {
   "cell_type": "code",
   "execution_count": 61,
   "metadata": {},
   "outputs": [
    {
     "name": "stdout",
     "output_type": "stream",
     "text": [
      "Metrics for sklearn DT: {'accuracy': 1.0, 'precision': 1.0, 'recall': 1.0, 'f1_score': 1.0, 'f2_score': 1.0}\n",
      "Metrics for sklearn DT: {'accuracy': 0.9777777777777777, 'precision': 0.9285714285714286, 'recall': 1.0, 'f1_score': 0.962962962962963, 'f2_score': 0.9848484848484849}\n"
     ]
    }
   ],
   "source": [
    "# Scikit-learn Decision Tree\n",
    "sklearn_dt = DecisionTreeClassifier(criterion=\"gini\",max_depth=10,min_samples_split=2,random_state=42)\n",
    "sklearn_dt.fit(X_train, y_train)\n",
    "y_dt_pred_sklearn = sklearn_dt.predict(X_test)\n",
    "metrics = ModelEvaluator.calculate_metrics(y_test, y_dt_pred_sklearn)\n",
    "print(f\"Metrics for sklearn DT: {metrics}\")\n",
    "\n",
    "# Scikit-learn Decision Tree\n",
    "sklearn_dt = DecisionTreeClassifier(criterion=\"entropy\",max_depth=10,min_samples_split=2,random_state=42)\n",
    "sklearn_dt.fit(X_train, y_train)\n",
    "y_dt_pred_sklearn = sklearn_dt.predict(X_test)\n",
    "metrics = ModelEvaluator.calculate_metrics(y_test, y_dt_pred_sklearn)\n",
    "print(f\"Metrics for sklearn DT: {metrics}\")\n",
    "\n"
   ]
  },
  {
   "cell_type": "markdown",
   "metadata": {},
   "source": [
    "### My Implmentation of Decision Tree"
   ]
  },
  {
   "cell_type": "code",
   "execution_count": 64,
   "metadata": {},
   "outputs": [
    {
     "name": "stdout",
     "output_type": "stream",
     "text": [
      "Metrics for custom Decision Tree: {'accuracy': 0.9555555555555556, 'precision': 1.0, 'recall': 0.8461538461538461, 'f1_score': 0.9166666666666666, 'f2_score': 0.8730158730158731}\n",
      "Metrics for custom Decision Tree: {'accuracy': 0.9555555555555556, 'precision': 1.0, 'recall': 0.8461538461538461, 'f1_score': 0.9166666666666666, 'f2_score': 0.8730158730158731}\n"
     ]
    }
   ],
   "source": [
    "# Custom Decision Tree\n",
    "custom_dt = DecisionTree(uniformity_measure=\"gini\", max_depth=None, min_samples_split=2)\n",
    "custom_dt.fit(X_train, y_train)\n",
    "y_dt_pred_custom = custom_dt.predict(X_test)\n",
    "metrics_custom = ModelEvaluator.calculate_metrics(y_test, y_dt_pred_custom)\n",
    "print(f\"Metrics for custom Decision Tree: {metrics_custom}\")\n",
    "\n",
    "# Custom Decision Tree\n",
    "custom_dt = DecisionTree(uniformity_measure=\"entropy\", max_depth=None, min_samples_split=2)\n",
    "custom_dt.fit(X_train, y_train)\n",
    "y_dt_pred_custom = custom_dt.predict(X_test)\n",
    "metrics_custom = ModelEvaluator.calculate_metrics(y_test, y_dt_pred_custom)\n",
    "print(f\"Metrics for custom Decision Tree: {metrics_custom}\")\n"
   ]
  },
  {
   "cell_type": "markdown",
   "metadata": {},
   "source": [
    "**Observation:**  \n",
    "My custom decision tree implementation still produces valid predictions. However scikit-learn’s DecisionTreeClassifier achieves higher training accuracy due to optimised threshold selection, and other internal refinements. Sklearn DT model was rigorously tested and improved and plan to investigate further where differences lie.\n"
   ]
  }
 ],
 "metadata": {
  "kernelspec": {
   "display_name": "base",
   "language": "python",
   "name": "python3"
  },
  "language_info": {
   "codemirror_mode": {
    "name": "ipython",
    "version": 3
   },
   "file_extension": ".py",
   "mimetype": "text/x-python",
   "name": "python",
   "nbconvert_exporter": "python",
   "pygments_lexer": "ipython3",
   "version": "3.9.13"
  }
 },
 "nbformat": 4,
 "nbformat_minor": 2
}
