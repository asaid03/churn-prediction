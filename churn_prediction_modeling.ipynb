{
 "cells": [
  {
   "cell_type": "markdown",
   "metadata": {},
   "source": [
    "# Churn Prediction Modelling"
   ]
  },
  {
   "cell_type": "markdown",
   "metadata": {},
   "source": [
    "#### Imports\n"
   ]
  },
  {
   "cell_type": "code",
   "execution_count": 1,
   "metadata": {},
   "outputs": [],
   "source": [
    "import pandas as pd\n",
    "import matplotlib.pyplot as plt\n",
    "import seaborn as sns\n",
    "import numpy as np\n",
    "import os\n",
    "import pickle\n",
    "import importlib\n",
    "from Models.knn import Conformal  \n",
    "from Models.knn import NearestNeighbours\n",
    "from Models.decision_tree import DecisionTree\n",
    "from Evaluator.model_evaluator import ModelEvaluator\n"
   ]
  },
  {
   "cell_type": "markdown",
   "metadata": {},
   "source": [
    "### Create Checkpoints direcotry\n",
    "- this would save us time from rerunning each model many times as we can store reuslts from test/train."
   ]
  },
  {
   "cell_type": "code",
   "execution_count": 2,
   "metadata": {},
   "outputs": [],
   "source": [
    "checkpoint_dir = \"checkpoints\"\n",
    "\n",
    "# Create the directory if it doesn’t already exist\n",
    "if not os.path.exists(checkpoint_dir):\n",
    "    os.makedirs(checkpoint_dir)"
   ]
  },
  {
   "cell_type": "markdown",
   "metadata": {},
   "source": [
    "### Load  Dataset\n"
   ]
  },
  {
   "cell_type": "code",
   "execution_count": 3,
   "metadata": {},
   "outputs": [],
   "source": [
    "file_path = 'Dataset\\\\Telco-Customer-Churn.csv'\n",
    "churn_data = pd.read_csv(file_path)"
   ]
  },
  {
   "cell_type": "markdown",
   "metadata": {},
   "source": [
    "## Data PreProcessing"
   ]
  },
  {
   "cell_type": "markdown",
   "metadata": {},
   "source": [
    "### Clean the data using what we learned from EDA\n"
   ]
  },
  {
   "cell_type": "markdown",
   "metadata": {},
   "source": [
    "#### Drop customerID"
   ]
  },
  {
   "cell_type": "code",
   "execution_count": 4,
   "metadata": {},
   "outputs": [
    {
     "data": {
      "text/html": [
       "<div>\n",
       "<style scoped>\n",
       "    .dataframe tbody tr th:only-of-type {\n",
       "        vertical-align: middle;\n",
       "    }\n",
       "\n",
       "    .dataframe tbody tr th {\n",
       "        vertical-align: top;\n",
       "    }\n",
       "\n",
       "    .dataframe thead th {\n",
       "        text-align: right;\n",
       "    }\n",
       "</style>\n",
       "<table border=\"1\" class=\"dataframe\">\n",
       "  <thead>\n",
       "    <tr style=\"text-align: right;\">\n",
       "      <th></th>\n",
       "      <th>gender</th>\n",
       "      <th>SeniorCitizen</th>\n",
       "      <th>Partner</th>\n",
       "      <th>Dependents</th>\n",
       "      <th>tenure</th>\n",
       "      <th>PhoneService</th>\n",
       "      <th>MultipleLines</th>\n",
       "      <th>InternetService</th>\n",
       "      <th>OnlineSecurity</th>\n",
       "      <th>OnlineBackup</th>\n",
       "      <th>DeviceProtection</th>\n",
       "      <th>TechSupport</th>\n",
       "      <th>StreamingTV</th>\n",
       "      <th>StreamingMovies</th>\n",
       "      <th>Contract</th>\n",
       "      <th>PaperlessBilling</th>\n",
       "      <th>PaymentMethod</th>\n",
       "      <th>MonthlyCharges</th>\n",
       "      <th>TotalCharges</th>\n",
       "      <th>Churn</th>\n",
       "    </tr>\n",
       "  </thead>\n",
       "  <tbody>\n",
       "    <tr>\n",
       "      <th>0</th>\n",
       "      <td>Female</td>\n",
       "      <td>0</td>\n",
       "      <td>Yes</td>\n",
       "      <td>No</td>\n",
       "      <td>1</td>\n",
       "      <td>No</td>\n",
       "      <td>No phone service</td>\n",
       "      <td>DSL</td>\n",
       "      <td>No</td>\n",
       "      <td>Yes</td>\n",
       "      <td>No</td>\n",
       "      <td>No</td>\n",
       "      <td>No</td>\n",
       "      <td>No</td>\n",
       "      <td>Month-to-month</td>\n",
       "      <td>Yes</td>\n",
       "      <td>Electronic check</td>\n",
       "      <td>29.85</td>\n",
       "      <td>29.85</td>\n",
       "      <td>No</td>\n",
       "    </tr>\n",
       "    <tr>\n",
       "      <th>1</th>\n",
       "      <td>Male</td>\n",
       "      <td>0</td>\n",
       "      <td>No</td>\n",
       "      <td>No</td>\n",
       "      <td>34</td>\n",
       "      <td>Yes</td>\n",
       "      <td>No</td>\n",
       "      <td>DSL</td>\n",
       "      <td>Yes</td>\n",
       "      <td>No</td>\n",
       "      <td>Yes</td>\n",
       "      <td>No</td>\n",
       "      <td>No</td>\n",
       "      <td>No</td>\n",
       "      <td>One year</td>\n",
       "      <td>No</td>\n",
       "      <td>Mailed check</td>\n",
       "      <td>56.95</td>\n",
       "      <td>1889.5</td>\n",
       "      <td>No</td>\n",
       "    </tr>\n",
       "    <tr>\n",
       "      <th>2</th>\n",
       "      <td>Male</td>\n",
       "      <td>0</td>\n",
       "      <td>No</td>\n",
       "      <td>No</td>\n",
       "      <td>2</td>\n",
       "      <td>Yes</td>\n",
       "      <td>No</td>\n",
       "      <td>DSL</td>\n",
       "      <td>Yes</td>\n",
       "      <td>Yes</td>\n",
       "      <td>No</td>\n",
       "      <td>No</td>\n",
       "      <td>No</td>\n",
       "      <td>No</td>\n",
       "      <td>Month-to-month</td>\n",
       "      <td>Yes</td>\n",
       "      <td>Mailed check</td>\n",
       "      <td>53.85</td>\n",
       "      <td>108.15</td>\n",
       "      <td>Yes</td>\n",
       "    </tr>\n",
       "    <tr>\n",
       "      <th>3</th>\n",
       "      <td>Male</td>\n",
       "      <td>0</td>\n",
       "      <td>No</td>\n",
       "      <td>No</td>\n",
       "      <td>45</td>\n",
       "      <td>No</td>\n",
       "      <td>No phone service</td>\n",
       "      <td>DSL</td>\n",
       "      <td>Yes</td>\n",
       "      <td>No</td>\n",
       "      <td>Yes</td>\n",
       "      <td>Yes</td>\n",
       "      <td>No</td>\n",
       "      <td>No</td>\n",
       "      <td>One year</td>\n",
       "      <td>No</td>\n",
       "      <td>Bank transfer (automatic)</td>\n",
       "      <td>42.30</td>\n",
       "      <td>1840.75</td>\n",
       "      <td>No</td>\n",
       "    </tr>\n",
       "    <tr>\n",
       "      <th>4</th>\n",
       "      <td>Female</td>\n",
       "      <td>0</td>\n",
       "      <td>No</td>\n",
       "      <td>No</td>\n",
       "      <td>2</td>\n",
       "      <td>Yes</td>\n",
       "      <td>No</td>\n",
       "      <td>Fiber optic</td>\n",
       "      <td>No</td>\n",
       "      <td>No</td>\n",
       "      <td>No</td>\n",
       "      <td>No</td>\n",
       "      <td>No</td>\n",
       "      <td>No</td>\n",
       "      <td>Month-to-month</td>\n",
       "      <td>Yes</td>\n",
       "      <td>Electronic check</td>\n",
       "      <td>70.70</td>\n",
       "      <td>151.65</td>\n",
       "      <td>Yes</td>\n",
       "    </tr>\n",
       "  </tbody>\n",
       "</table>\n",
       "</div>"
      ],
      "text/plain": [
       "   gender  SeniorCitizen Partner Dependents  tenure PhoneService  \\\n",
       "0  Female              0     Yes         No       1           No   \n",
       "1    Male              0      No         No      34          Yes   \n",
       "2    Male              0      No         No       2          Yes   \n",
       "3    Male              0      No         No      45           No   \n",
       "4  Female              0      No         No       2          Yes   \n",
       "\n",
       "      MultipleLines InternetService OnlineSecurity OnlineBackup  \\\n",
       "0  No phone service             DSL             No          Yes   \n",
       "1                No             DSL            Yes           No   \n",
       "2                No             DSL            Yes          Yes   \n",
       "3  No phone service             DSL            Yes           No   \n",
       "4                No     Fiber optic             No           No   \n",
       "\n",
       "  DeviceProtection TechSupport StreamingTV StreamingMovies        Contract  \\\n",
       "0               No          No          No              No  Month-to-month   \n",
       "1              Yes          No          No              No        One year   \n",
       "2               No          No          No              No  Month-to-month   \n",
       "3              Yes         Yes          No              No        One year   \n",
       "4               No          No          No              No  Month-to-month   \n",
       "\n",
       "  PaperlessBilling              PaymentMethod  MonthlyCharges TotalCharges  \\\n",
       "0              Yes           Electronic check           29.85        29.85   \n",
       "1               No               Mailed check           56.95       1889.5   \n",
       "2              Yes               Mailed check           53.85       108.15   \n",
       "3               No  Bank transfer (automatic)           42.30      1840.75   \n",
       "4              Yes           Electronic check           70.70       151.65   \n",
       "\n",
       "  Churn  \n",
       "0    No  \n",
       "1    No  \n",
       "2   Yes  \n",
       "3    No  \n",
       "4   Yes  "
      ]
     },
     "execution_count": 4,
     "metadata": {},
     "output_type": "execute_result"
    }
   ],
   "source": [
    "churn_data = churn_data.drop(['customerID'],axis = 1) \n",
    "churn_data.head()   "
   ]
  },
  {
   "cell_type": "markdown",
   "metadata": {},
   "source": [
    "#### Convert total charges from object into float"
   ]
  },
  {
   "cell_type": "code",
   "execution_count": 5,
   "metadata": {},
   "outputs": [],
   "source": [
    "# Replace empty strings with NaN\n",
    "churn_data['TotalCharges'] = churn_data['TotalCharges'].replace(\" \", np.nan)\n",
    "\n",
    "# Converts from object to float data type\n",
    "churn_data['TotalCharges'] = churn_data['TotalCharges'].astype(float)"
   ]
  },
  {
   "cell_type": "markdown",
   "metadata": {},
   "source": [
    "##### Deal with missing Data"
   ]
  },
  {
   "cell_type": "markdown",
   "metadata": {},
   "source": [
    "- From our EDA we had 11 rows of missing data for Total charges "
   ]
  },
  {
   "cell_type": "code",
   "execution_count": 6,
   "metadata": {},
   "outputs": [
    {
     "data": {
      "text/html": [
       "<div>\n",
       "<style scoped>\n",
       "    .dataframe tbody tr th:only-of-type {\n",
       "        vertical-align: middle;\n",
       "    }\n",
       "\n",
       "    .dataframe tbody tr th {\n",
       "        vertical-align: top;\n",
       "    }\n",
       "\n",
       "    .dataframe thead th {\n",
       "        text-align: right;\n",
       "    }\n",
       "</style>\n",
       "<table border=\"1\" class=\"dataframe\">\n",
       "  <thead>\n",
       "    <tr style=\"text-align: right;\">\n",
       "      <th></th>\n",
       "      <th>gender</th>\n",
       "      <th>SeniorCitizen</th>\n",
       "      <th>Partner</th>\n",
       "      <th>Dependents</th>\n",
       "      <th>tenure</th>\n",
       "      <th>PhoneService</th>\n",
       "      <th>MultipleLines</th>\n",
       "      <th>InternetService</th>\n",
       "      <th>OnlineSecurity</th>\n",
       "      <th>OnlineBackup</th>\n",
       "      <th>DeviceProtection</th>\n",
       "      <th>TechSupport</th>\n",
       "      <th>StreamingTV</th>\n",
       "      <th>StreamingMovies</th>\n",
       "      <th>Contract</th>\n",
       "      <th>PaperlessBilling</th>\n",
       "      <th>PaymentMethod</th>\n",
       "      <th>MonthlyCharges</th>\n",
       "      <th>TotalCharges</th>\n",
       "      <th>Churn</th>\n",
       "    </tr>\n",
       "  </thead>\n",
       "  <tbody>\n",
       "    <tr>\n",
       "      <th>488</th>\n",
       "      <td>Female</td>\n",
       "      <td>0</td>\n",
       "      <td>Yes</td>\n",
       "      <td>Yes</td>\n",
       "      <td>0</td>\n",
       "      <td>No</td>\n",
       "      <td>No phone service</td>\n",
       "      <td>DSL</td>\n",
       "      <td>Yes</td>\n",
       "      <td>No</td>\n",
       "      <td>Yes</td>\n",
       "      <td>Yes</td>\n",
       "      <td>Yes</td>\n",
       "      <td>No</td>\n",
       "      <td>Two year</td>\n",
       "      <td>Yes</td>\n",
       "      <td>Bank transfer (automatic)</td>\n",
       "      <td>52.55</td>\n",
       "      <td>NaN</td>\n",
       "      <td>No</td>\n",
       "    </tr>\n",
       "    <tr>\n",
       "      <th>753</th>\n",
       "      <td>Male</td>\n",
       "      <td>0</td>\n",
       "      <td>No</td>\n",
       "      <td>Yes</td>\n",
       "      <td>0</td>\n",
       "      <td>Yes</td>\n",
       "      <td>No</td>\n",
       "      <td>No</td>\n",
       "      <td>No internet service</td>\n",
       "      <td>No internet service</td>\n",
       "      <td>No internet service</td>\n",
       "      <td>No internet service</td>\n",
       "      <td>No internet service</td>\n",
       "      <td>No internet service</td>\n",
       "      <td>Two year</td>\n",
       "      <td>No</td>\n",
       "      <td>Mailed check</td>\n",
       "      <td>20.25</td>\n",
       "      <td>NaN</td>\n",
       "      <td>No</td>\n",
       "    </tr>\n",
       "    <tr>\n",
       "      <th>936</th>\n",
       "      <td>Female</td>\n",
       "      <td>0</td>\n",
       "      <td>Yes</td>\n",
       "      <td>Yes</td>\n",
       "      <td>0</td>\n",
       "      <td>Yes</td>\n",
       "      <td>No</td>\n",
       "      <td>DSL</td>\n",
       "      <td>Yes</td>\n",
       "      <td>Yes</td>\n",
       "      <td>Yes</td>\n",
       "      <td>No</td>\n",
       "      <td>Yes</td>\n",
       "      <td>Yes</td>\n",
       "      <td>Two year</td>\n",
       "      <td>No</td>\n",
       "      <td>Mailed check</td>\n",
       "      <td>80.85</td>\n",
       "      <td>NaN</td>\n",
       "      <td>No</td>\n",
       "    </tr>\n",
       "    <tr>\n",
       "      <th>1082</th>\n",
       "      <td>Male</td>\n",
       "      <td>0</td>\n",
       "      <td>Yes</td>\n",
       "      <td>Yes</td>\n",
       "      <td>0</td>\n",
       "      <td>Yes</td>\n",
       "      <td>Yes</td>\n",
       "      <td>No</td>\n",
       "      <td>No internet service</td>\n",
       "      <td>No internet service</td>\n",
       "      <td>No internet service</td>\n",
       "      <td>No internet service</td>\n",
       "      <td>No internet service</td>\n",
       "      <td>No internet service</td>\n",
       "      <td>Two year</td>\n",
       "      <td>No</td>\n",
       "      <td>Mailed check</td>\n",
       "      <td>25.75</td>\n",
       "      <td>NaN</td>\n",
       "      <td>No</td>\n",
       "    </tr>\n",
       "    <tr>\n",
       "      <th>1340</th>\n",
       "      <td>Female</td>\n",
       "      <td>0</td>\n",
       "      <td>Yes</td>\n",
       "      <td>Yes</td>\n",
       "      <td>0</td>\n",
       "      <td>No</td>\n",
       "      <td>No phone service</td>\n",
       "      <td>DSL</td>\n",
       "      <td>Yes</td>\n",
       "      <td>Yes</td>\n",
       "      <td>Yes</td>\n",
       "      <td>Yes</td>\n",
       "      <td>Yes</td>\n",
       "      <td>No</td>\n",
       "      <td>Two year</td>\n",
       "      <td>No</td>\n",
       "      <td>Credit card (automatic)</td>\n",
       "      <td>56.05</td>\n",
       "      <td>NaN</td>\n",
       "      <td>No</td>\n",
       "    </tr>\n",
       "    <tr>\n",
       "      <th>3331</th>\n",
       "      <td>Male</td>\n",
       "      <td>0</td>\n",
       "      <td>Yes</td>\n",
       "      <td>Yes</td>\n",
       "      <td>0</td>\n",
       "      <td>Yes</td>\n",
       "      <td>No</td>\n",
       "      <td>No</td>\n",
       "      <td>No internet service</td>\n",
       "      <td>No internet service</td>\n",
       "      <td>No internet service</td>\n",
       "      <td>No internet service</td>\n",
       "      <td>No internet service</td>\n",
       "      <td>No internet service</td>\n",
       "      <td>Two year</td>\n",
       "      <td>No</td>\n",
       "      <td>Mailed check</td>\n",
       "      <td>19.85</td>\n",
       "      <td>NaN</td>\n",
       "      <td>No</td>\n",
       "    </tr>\n",
       "    <tr>\n",
       "      <th>3826</th>\n",
       "      <td>Male</td>\n",
       "      <td>0</td>\n",
       "      <td>Yes</td>\n",
       "      <td>Yes</td>\n",
       "      <td>0</td>\n",
       "      <td>Yes</td>\n",
       "      <td>Yes</td>\n",
       "      <td>No</td>\n",
       "      <td>No internet service</td>\n",
       "      <td>No internet service</td>\n",
       "      <td>No internet service</td>\n",
       "      <td>No internet service</td>\n",
       "      <td>No internet service</td>\n",
       "      <td>No internet service</td>\n",
       "      <td>Two year</td>\n",
       "      <td>No</td>\n",
       "      <td>Mailed check</td>\n",
       "      <td>25.35</td>\n",
       "      <td>NaN</td>\n",
       "      <td>No</td>\n",
       "    </tr>\n",
       "    <tr>\n",
       "      <th>4380</th>\n",
       "      <td>Female</td>\n",
       "      <td>0</td>\n",
       "      <td>Yes</td>\n",
       "      <td>Yes</td>\n",
       "      <td>0</td>\n",
       "      <td>Yes</td>\n",
       "      <td>No</td>\n",
       "      <td>No</td>\n",
       "      <td>No internet service</td>\n",
       "      <td>No internet service</td>\n",
       "      <td>No internet service</td>\n",
       "      <td>No internet service</td>\n",
       "      <td>No internet service</td>\n",
       "      <td>No internet service</td>\n",
       "      <td>Two year</td>\n",
       "      <td>No</td>\n",
       "      <td>Mailed check</td>\n",
       "      <td>20.00</td>\n",
       "      <td>NaN</td>\n",
       "      <td>No</td>\n",
       "    </tr>\n",
       "    <tr>\n",
       "      <th>5218</th>\n",
       "      <td>Male</td>\n",
       "      <td>0</td>\n",
       "      <td>Yes</td>\n",
       "      <td>Yes</td>\n",
       "      <td>0</td>\n",
       "      <td>Yes</td>\n",
       "      <td>No</td>\n",
       "      <td>No</td>\n",
       "      <td>No internet service</td>\n",
       "      <td>No internet service</td>\n",
       "      <td>No internet service</td>\n",
       "      <td>No internet service</td>\n",
       "      <td>No internet service</td>\n",
       "      <td>No internet service</td>\n",
       "      <td>One year</td>\n",
       "      <td>Yes</td>\n",
       "      <td>Mailed check</td>\n",
       "      <td>19.70</td>\n",
       "      <td>NaN</td>\n",
       "      <td>No</td>\n",
       "    </tr>\n",
       "    <tr>\n",
       "      <th>6670</th>\n",
       "      <td>Female</td>\n",
       "      <td>0</td>\n",
       "      <td>Yes</td>\n",
       "      <td>Yes</td>\n",
       "      <td>0</td>\n",
       "      <td>Yes</td>\n",
       "      <td>Yes</td>\n",
       "      <td>DSL</td>\n",
       "      <td>No</td>\n",
       "      <td>Yes</td>\n",
       "      <td>Yes</td>\n",
       "      <td>Yes</td>\n",
       "      <td>Yes</td>\n",
       "      <td>No</td>\n",
       "      <td>Two year</td>\n",
       "      <td>No</td>\n",
       "      <td>Mailed check</td>\n",
       "      <td>73.35</td>\n",
       "      <td>NaN</td>\n",
       "      <td>No</td>\n",
       "    </tr>\n",
       "    <tr>\n",
       "      <th>6754</th>\n",
       "      <td>Male</td>\n",
       "      <td>0</td>\n",
       "      <td>No</td>\n",
       "      <td>Yes</td>\n",
       "      <td>0</td>\n",
       "      <td>Yes</td>\n",
       "      <td>Yes</td>\n",
       "      <td>DSL</td>\n",
       "      <td>Yes</td>\n",
       "      <td>Yes</td>\n",
       "      <td>No</td>\n",
       "      <td>Yes</td>\n",
       "      <td>No</td>\n",
       "      <td>No</td>\n",
       "      <td>Two year</td>\n",
       "      <td>Yes</td>\n",
       "      <td>Bank transfer (automatic)</td>\n",
       "      <td>61.90</td>\n",
       "      <td>NaN</td>\n",
       "      <td>No</td>\n",
       "    </tr>\n",
       "  </tbody>\n",
       "</table>\n",
       "</div>"
      ],
      "text/plain": [
       "      gender  SeniorCitizen Partner Dependents  tenure PhoneService  \\\n",
       "488   Female              0     Yes        Yes       0           No   \n",
       "753     Male              0      No        Yes       0          Yes   \n",
       "936   Female              0     Yes        Yes       0          Yes   \n",
       "1082    Male              0     Yes        Yes       0          Yes   \n",
       "1340  Female              0     Yes        Yes       0           No   \n",
       "3331    Male              0     Yes        Yes       0          Yes   \n",
       "3826    Male              0     Yes        Yes       0          Yes   \n",
       "4380  Female              0     Yes        Yes       0          Yes   \n",
       "5218    Male              0     Yes        Yes       0          Yes   \n",
       "6670  Female              0     Yes        Yes       0          Yes   \n",
       "6754    Male              0      No        Yes       0          Yes   \n",
       "\n",
       "         MultipleLines InternetService       OnlineSecurity  \\\n",
       "488   No phone service             DSL                  Yes   \n",
       "753                 No              No  No internet service   \n",
       "936                 No             DSL                  Yes   \n",
       "1082               Yes              No  No internet service   \n",
       "1340  No phone service             DSL                  Yes   \n",
       "3331                No              No  No internet service   \n",
       "3826               Yes              No  No internet service   \n",
       "4380                No              No  No internet service   \n",
       "5218                No              No  No internet service   \n",
       "6670               Yes             DSL                   No   \n",
       "6754               Yes             DSL                  Yes   \n",
       "\n",
       "             OnlineBackup     DeviceProtection          TechSupport  \\\n",
       "488                    No                  Yes                  Yes   \n",
       "753   No internet service  No internet service  No internet service   \n",
       "936                   Yes                  Yes                   No   \n",
       "1082  No internet service  No internet service  No internet service   \n",
       "1340                  Yes                  Yes                  Yes   \n",
       "3331  No internet service  No internet service  No internet service   \n",
       "3826  No internet service  No internet service  No internet service   \n",
       "4380  No internet service  No internet service  No internet service   \n",
       "5218  No internet service  No internet service  No internet service   \n",
       "6670                  Yes                  Yes                  Yes   \n",
       "6754                  Yes                   No                  Yes   \n",
       "\n",
       "              StreamingTV      StreamingMovies  Contract PaperlessBilling  \\\n",
       "488                   Yes                   No  Two year              Yes   \n",
       "753   No internet service  No internet service  Two year               No   \n",
       "936                   Yes                  Yes  Two year               No   \n",
       "1082  No internet service  No internet service  Two year               No   \n",
       "1340                  Yes                   No  Two year               No   \n",
       "3331  No internet service  No internet service  Two year               No   \n",
       "3826  No internet service  No internet service  Two year               No   \n",
       "4380  No internet service  No internet service  Two year               No   \n",
       "5218  No internet service  No internet service  One year              Yes   \n",
       "6670                  Yes                   No  Two year               No   \n",
       "6754                   No                   No  Two year              Yes   \n",
       "\n",
       "                  PaymentMethod  MonthlyCharges  TotalCharges Churn  \n",
       "488   Bank transfer (automatic)           52.55           NaN    No  \n",
       "753                Mailed check           20.25           NaN    No  \n",
       "936                Mailed check           80.85           NaN    No  \n",
       "1082               Mailed check           25.75           NaN    No  \n",
       "1340    Credit card (automatic)           56.05           NaN    No  \n",
       "3331               Mailed check           19.85           NaN    No  \n",
       "3826               Mailed check           25.35           NaN    No  \n",
       "4380               Mailed check           20.00           NaN    No  \n",
       "5218               Mailed check           19.70           NaN    No  \n",
       "6670               Mailed check           73.35           NaN    No  \n",
       "6754  Bank transfer (automatic)           61.90           NaN    No  "
      ]
     },
     "execution_count": 6,
     "metadata": {},
     "output_type": "execute_result"
    }
   ],
   "source": [
    "churn_data[np.isnan(churn_data['TotalCharges'])]"
   ]
  },
  {
   "cell_type": "markdown",
   "metadata": {},
   "source": [
    "- we compute TotalCharges: TotalCharges = Tenure * Montlycharge "
   ]
  },
  {
   "cell_type": "code",
   "execution_count": 7,
   "metadata": {},
   "outputs": [],
   "source": [
    "def compute_total_charges(row):\n",
    "    if pd.isnull(row['TotalCharges']) and row['MonthlyCharges'] > 0:\n",
    "        return row['tenure'] * row['MonthlyCharges']\n",
    "    return row['TotalCharges']\n",
    "\n",
    "churn_data['TotalCharges'] = churn_data.apply(compute_total_charges, axis=1)\n"
   ]
  },
  {
   "cell_type": "code",
   "execution_count": 8,
   "metadata": {},
   "outputs": [
    {
     "data": {
      "text/html": [
       "<div>\n",
       "<style scoped>\n",
       "    .dataframe tbody tr th:only-of-type {\n",
       "        vertical-align: middle;\n",
       "    }\n",
       "\n",
       "    .dataframe tbody tr th {\n",
       "        vertical-align: top;\n",
       "    }\n",
       "\n",
       "    .dataframe thead th {\n",
       "        text-align: right;\n",
       "    }\n",
       "</style>\n",
       "<table border=\"1\" class=\"dataframe\">\n",
       "  <thead>\n",
       "    <tr style=\"text-align: right;\">\n",
       "      <th></th>\n",
       "      <th>gender</th>\n",
       "      <th>SeniorCitizen</th>\n",
       "      <th>Partner</th>\n",
       "      <th>Dependents</th>\n",
       "      <th>tenure</th>\n",
       "      <th>PhoneService</th>\n",
       "      <th>MultipleLines</th>\n",
       "      <th>InternetService</th>\n",
       "      <th>OnlineSecurity</th>\n",
       "      <th>OnlineBackup</th>\n",
       "      <th>DeviceProtection</th>\n",
       "      <th>TechSupport</th>\n",
       "      <th>StreamingTV</th>\n",
       "      <th>StreamingMovies</th>\n",
       "      <th>Contract</th>\n",
       "      <th>PaperlessBilling</th>\n",
       "      <th>PaymentMethod</th>\n",
       "      <th>MonthlyCharges</th>\n",
       "      <th>TotalCharges</th>\n",
       "      <th>Churn</th>\n",
       "    </tr>\n",
       "  </thead>\n",
       "  <tbody>\n",
       "  </tbody>\n",
       "</table>\n",
       "</div>"
      ],
      "text/plain": [
       "Empty DataFrame\n",
       "Columns: [gender, SeniorCitizen, Partner, Dependents, tenure, PhoneService, MultipleLines, InternetService, OnlineSecurity, OnlineBackup, DeviceProtection, TechSupport, StreamingTV, StreamingMovies, Contract, PaperlessBilling, PaymentMethod, MonthlyCharges, TotalCharges, Churn]\n",
       "Index: []"
      ]
     },
     "execution_count": 8,
     "metadata": {},
     "output_type": "execute_result"
    }
   ],
   "source": [
    "churn_data[np.isnan(churn_data['TotalCharges'])]"
   ]
  },
  {
   "cell_type": "markdown",
   "metadata": {},
   "source": [
    "We have now dealt with NaN rows and can proceeed."
   ]
  },
  {
   "cell_type": "markdown",
   "metadata": {},
   "source": [
    "### Encoding Categorical Variables."
   ]
  },
  {
   "cell_type": "code",
   "execution_count": 9,
   "metadata": {},
   "outputs": [
    {
     "name": "stdout",
     "output_type": "stream",
     "text": [
      "All categorical columns: Index(['gender', 'Partner', 'Dependents', 'PhoneService', 'MultipleLines',\n",
      "       'InternetService', 'OnlineSecurity', 'OnlineBackup', 'DeviceProtection',\n",
      "       'TechSupport', 'StreamingTV', 'StreamingMovies', 'Contract',\n",
      "       'PaperlessBilling', 'PaymentMethod', 'Churn'],\n",
      "      dtype='object')\n"
     ]
    }
   ],
   "source": [
    "# Identify all categorical columns by data type\n",
    "categorical_cols_all = churn_data.select_dtypes(include=['object']).columns\n",
    "print(\"All categorical columns:\", categorical_cols_all)\n"
   ]
  },
  {
   "cell_type": "markdown",
   "metadata": {},
   "source": [
    "- Split the Categorical Variables into Binary and non-Binary"
   ]
  },
  {
   "cell_type": "code",
   "execution_count": 10,
   "metadata": {},
   "outputs": [],
   "source": [
    "# Binary columns  have only 2 possible values.\n",
    "binary_cols = ['gender', 'Partner', 'Dependents', 'PhoneService', 'PaperlessBilling', 'Churn']\n",
    "\n",
    "non_binary_cols = ['MultipleLines', 'InternetService', 'OnlineSecurity', 'OnlineBackup',\n",
    "                   'DeviceProtection', 'TechSupport', 'StreamingTV', 'StreamingMovies',\n",
    "                   'Contract', 'PaymentMethod']\n"
   ]
  },
  {
   "cell_type": "markdown",
   "metadata": {},
   "source": [
    "Encode Binary and Non-Binary Categorical Variables"
   ]
  },
  {
   "cell_type": "code",
   "execution_count": 11,
   "metadata": {},
   "outputs": [
    {
     "data": {
      "text/html": [
       "<div>\n",
       "<style scoped>\n",
       "    .dataframe tbody tr th:only-of-type {\n",
       "        vertical-align: middle;\n",
       "    }\n",
       "\n",
       "    .dataframe tbody tr th {\n",
       "        vertical-align: top;\n",
       "    }\n",
       "\n",
       "    .dataframe thead th {\n",
       "        text-align: right;\n",
       "    }\n",
       "</style>\n",
       "<table border=\"1\" class=\"dataframe\">\n",
       "  <thead>\n",
       "    <tr style=\"text-align: right;\">\n",
       "      <th></th>\n",
       "      <th>gender</th>\n",
       "      <th>SeniorCitizen</th>\n",
       "      <th>Partner</th>\n",
       "      <th>Dependents</th>\n",
       "      <th>tenure</th>\n",
       "      <th>PhoneService</th>\n",
       "      <th>PaperlessBilling</th>\n",
       "      <th>MonthlyCharges</th>\n",
       "      <th>TotalCharges</th>\n",
       "      <th>Churn</th>\n",
       "      <th>...</th>\n",
       "      <th>StreamingMovies_No</th>\n",
       "      <th>StreamingMovies_Yes</th>\n",
       "      <th>StreamingMovies_No internet service</th>\n",
       "      <th>Contract_Month-to-month</th>\n",
       "      <th>Contract_One year</th>\n",
       "      <th>Contract_Two year</th>\n",
       "      <th>PaymentMethod_Electronic check</th>\n",
       "      <th>PaymentMethod_Mailed check</th>\n",
       "      <th>PaymentMethod_Bank transfer (automatic)</th>\n",
       "      <th>PaymentMethod_Credit card (automatic)</th>\n",
       "    </tr>\n",
       "  </thead>\n",
       "  <tbody>\n",
       "    <tr>\n",
       "      <th>0</th>\n",
       "      <td>0</td>\n",
       "      <td>0</td>\n",
       "      <td>0</td>\n",
       "      <td>0</td>\n",
       "      <td>1</td>\n",
       "      <td>0</td>\n",
       "      <td>0</td>\n",
       "      <td>29.85</td>\n",
       "      <td>29.85</td>\n",
       "      <td>0</td>\n",
       "      <td>...</td>\n",
       "      <td>1</td>\n",
       "      <td>0</td>\n",
       "      <td>0</td>\n",
       "      <td>1</td>\n",
       "      <td>0</td>\n",
       "      <td>0</td>\n",
       "      <td>1</td>\n",
       "      <td>0</td>\n",
       "      <td>0</td>\n",
       "      <td>0</td>\n",
       "    </tr>\n",
       "    <tr>\n",
       "      <th>1</th>\n",
       "      <td>1</td>\n",
       "      <td>0</td>\n",
       "      <td>1</td>\n",
       "      <td>0</td>\n",
       "      <td>34</td>\n",
       "      <td>1</td>\n",
       "      <td>1</td>\n",
       "      <td>56.95</td>\n",
       "      <td>1889.50</td>\n",
       "      <td>0</td>\n",
       "      <td>...</td>\n",
       "      <td>1</td>\n",
       "      <td>0</td>\n",
       "      <td>0</td>\n",
       "      <td>0</td>\n",
       "      <td>1</td>\n",
       "      <td>0</td>\n",
       "      <td>0</td>\n",
       "      <td>1</td>\n",
       "      <td>0</td>\n",
       "      <td>0</td>\n",
       "    </tr>\n",
       "    <tr>\n",
       "      <th>2</th>\n",
       "      <td>1</td>\n",
       "      <td>0</td>\n",
       "      <td>1</td>\n",
       "      <td>0</td>\n",
       "      <td>2</td>\n",
       "      <td>1</td>\n",
       "      <td>0</td>\n",
       "      <td>53.85</td>\n",
       "      <td>108.15</td>\n",
       "      <td>1</td>\n",
       "      <td>...</td>\n",
       "      <td>1</td>\n",
       "      <td>0</td>\n",
       "      <td>0</td>\n",
       "      <td>1</td>\n",
       "      <td>0</td>\n",
       "      <td>0</td>\n",
       "      <td>0</td>\n",
       "      <td>1</td>\n",
       "      <td>0</td>\n",
       "      <td>0</td>\n",
       "    </tr>\n",
       "    <tr>\n",
       "      <th>3</th>\n",
       "      <td>1</td>\n",
       "      <td>0</td>\n",
       "      <td>1</td>\n",
       "      <td>0</td>\n",
       "      <td>45</td>\n",
       "      <td>0</td>\n",
       "      <td>1</td>\n",
       "      <td>42.30</td>\n",
       "      <td>1840.75</td>\n",
       "      <td>0</td>\n",
       "      <td>...</td>\n",
       "      <td>1</td>\n",
       "      <td>0</td>\n",
       "      <td>0</td>\n",
       "      <td>0</td>\n",
       "      <td>1</td>\n",
       "      <td>0</td>\n",
       "      <td>0</td>\n",
       "      <td>0</td>\n",
       "      <td>1</td>\n",
       "      <td>0</td>\n",
       "    </tr>\n",
       "    <tr>\n",
       "      <th>4</th>\n",
       "      <td>0</td>\n",
       "      <td>0</td>\n",
       "      <td>1</td>\n",
       "      <td>0</td>\n",
       "      <td>2</td>\n",
       "      <td>1</td>\n",
       "      <td>0</td>\n",
       "      <td>70.70</td>\n",
       "      <td>151.65</td>\n",
       "      <td>1</td>\n",
       "      <td>...</td>\n",
       "      <td>1</td>\n",
       "      <td>0</td>\n",
       "      <td>0</td>\n",
       "      <td>1</td>\n",
       "      <td>0</td>\n",
       "      <td>0</td>\n",
       "      <td>1</td>\n",
       "      <td>0</td>\n",
       "      <td>0</td>\n",
       "      <td>0</td>\n",
       "    </tr>\n",
       "  </tbody>\n",
       "</table>\n",
       "<p>5 rows × 41 columns</p>\n",
       "</div>"
      ],
      "text/plain": [
       "   gender  SeniorCitizen  Partner  Dependents  tenure  PhoneService  \\\n",
       "0       0              0        0           0       1             0   \n",
       "1       1              0        1           0      34             1   \n",
       "2       1              0        1           0       2             1   \n",
       "3       1              0        1           0      45             0   \n",
       "4       0              0        1           0       2             1   \n",
       "\n",
       "   PaperlessBilling  MonthlyCharges  TotalCharges  Churn  ...  \\\n",
       "0                 0           29.85         29.85      0  ...   \n",
       "1                 1           56.95       1889.50      0  ...   \n",
       "2                 0           53.85        108.15      1  ...   \n",
       "3                 1           42.30       1840.75      0  ...   \n",
       "4                 0           70.70        151.65      1  ...   \n",
       "\n",
       "   StreamingMovies_No  StreamingMovies_Yes  \\\n",
       "0                   1                    0   \n",
       "1                   1                    0   \n",
       "2                   1                    0   \n",
       "3                   1                    0   \n",
       "4                   1                    0   \n",
       "\n",
       "   StreamingMovies_No internet service  Contract_Month-to-month  \\\n",
       "0                                    0                        1   \n",
       "1                                    0                        0   \n",
       "2                                    0                        1   \n",
       "3                                    0                        0   \n",
       "4                                    0                        1   \n",
       "\n",
       "   Contract_One year  Contract_Two year  PaymentMethod_Electronic check  \\\n",
       "0                  0                  0                               1   \n",
       "1                  1                  0                               0   \n",
       "2                  0                  0                               0   \n",
       "3                  1                  0                               0   \n",
       "4                  0                  0                               1   \n",
       "\n",
       "   PaymentMethod_Mailed check  PaymentMethod_Bank transfer (automatic)  \\\n",
       "0                           0                                        0   \n",
       "1                           1                                        0   \n",
       "2                           1                                        0   \n",
       "3                           0                                        1   \n",
       "4                           0                                        0   \n",
       "\n",
       "   PaymentMethod_Credit card (automatic)  \n",
       "0                                      0  \n",
       "1                                      0  \n",
       "2                                      0  \n",
       "3                                      0  \n",
       "4                                      0  \n",
       "\n",
       "[5 rows x 41 columns]"
      ]
     },
     "execution_count": 11,
     "metadata": {},
     "output_type": "execute_result"
    }
   ],
   "source": [
    "binary_mappings = {}\n",
    "one_hot_categories = {}\n",
    "\n",
    "for col in binary_cols:\n",
    "    # Get unique values\n",
    "    unique_values = churn_data[col].unique()\n",
    "    #store the mapping\n",
    "    mapping = {unique_values[0]: 0, unique_values[1]: 1}\n",
    "    binary_mappings[col] = mapping\n",
    "    # Map the first unique value to 0 and the second to 1\n",
    "    churn_data[col] = churn_data[col].apply(lambda x: 0 if x == unique_values[0] else 1)\n",
    "    \n",
    "    \n",
    "for col in non_binary_cols:\n",
    "    # Get unique categories for each column\n",
    "    unique_values = churn_data[col].unique()\n",
    "    one_hot_categories[col] = churn_data[col].unique().tolist()\n",
    "    for value in unique_values:\n",
    "        # Create a new column for each unique category\n",
    "        churn_data[f\"{col}_{value}\"] = (churn_data[col] == value).astype(int)\n",
    "    # Drop the original non-binary categorical column\n",
    "    churn_data.drop(col, axis=1, inplace=True)\n",
    "\n",
    "# Check the transformed dataset\n",
    "churn_data.head()\n"
   ]
  },
  {
   "cell_type": "markdown",
   "metadata": {},
   "source": [
    "# Splitting the dataset"
   ]
  },
  {
   "cell_type": "code",
   "execution_count": 12,
   "metadata": {},
   "outputs": [],
   "source": [
    "def train_test_split(X, y, test_size=0.2, random_seed=None):\n",
    "    np.random.seed(random_seed)  # For reproducibility\n",
    "    indices = np.random.permutation(len(X))  # Shuffle the indices\n",
    "    test_set_size = int(len(X) * test_size)\n",
    "    \n",
    "    test_indices = indices[:test_set_size]\n",
    "    train_indices = indices[test_set_size:]\n",
    "    \n",
    "    X_train, X_test = X[train_indices], X[test_indices]\n",
    "    y_train, y_test = y[train_indices], y[test_indices]\n",
    "    \n",
    "    return X_train, X_test, y_train, y_test\n"
   ]
  },
  {
   "cell_type": "markdown",
   "metadata": {},
   "source": [
    "## Normalising the Data"
   ]
  },
  {
   "cell_type": "code",
   "execution_count": 13,
   "metadata": {},
   "outputs": [],
   "source": [
    "# Min-Max Normalisation\n",
    "def min_max_scaling(X_train, X_test):\n",
    "    min_value = X_train.min(axis=0)\n",
    "    max_value = X_train.max(axis=0)\n",
    "    \n",
    "    X_train = (X_train - min_value) / (max_value - min_value)\n",
    "    X_test = (X_test - min_value) / (max_value - min_value)\n",
    "    \n",
    "    return X_train, X_test\n",
    "\n",
    "# Z-Score Normalisation\n",
    "def z_score_scaling(X_train, X_test):\n",
    "    mean = X_train.mean(axis=0)\n",
    "    std = X_train.std(axis=0)\n",
    "    \n",
    "    X_train = (X_train - mean) / std\n",
    "    X_test = (X_test - mean) / std\n",
    "    \n",
    "    return X_train, X_test\n"
   ]
  },
  {
   "cell_type": "markdown",
   "metadata": {},
   "source": [
    "## K-Nearest-Neighbour Model\n",
    "## Euclidean distance"
   ]
  },
  {
   "cell_type": "markdown",
   "metadata": {},
   "source": [
    "#### Investigate results for when K = 1 for min_max normalised data"
   ]
  },
  {
   "cell_type": "code",
   "execution_count": 14,
   "metadata": {},
   "outputs": [
    {
     "name": "stdout",
     "output_type": "stream",
     "text": [
      "Error rate is: 0.234375\n",
      "Number of errors: 330 out of 1408\n",
      "Number of ties encountered: 0\n"
     ]
    }
   ],
   "source": [
    "# Split the data \n",
    "X = churn_data.drop(columns=['Churn']).values \n",
    "y = churn_data['Churn'].values\n",
    "\n",
    "# Perform train-test split\n",
    "X_train, X_test, y_train, y_test = train_test_split(X, y, test_size=0.2, random_seed=42)\n",
    "\n",
    "X_train_scaled, X_test_scaled = min_max_scaling(X_train, X_test)\n",
    "\n",
    "# Instantiate and train KNN model\n",
    "knn_model = NearestNeighbours(neighbours=5)\n",
    "knn_model.fit(X_train_scaled, y_train)\n",
    "\n",
    "# Predict on test data\n",
    "predictions = knn_model.predict(X_test_scaled)\n",
    "\n",
    "# Evaluate model\n",
    "knn_model.score(predictions, y_test)\n",
    "knn_model.print_tie_count()\n"
   ]
  },
  {
   "cell_type": "markdown",
   "metadata": {},
   "source": [
    "#### Investigate results for when K = 1 for Z_score norm data"
   ]
  },
  {
   "cell_type": "code",
   "execution_count": 15,
   "metadata": {},
   "outputs": [
    {
     "name": "stdout",
     "output_type": "stream",
     "text": [
      "Error rate is: 0.23295454545454541\n",
      "Number of errors: 328 out of 1408\n",
      "Number of ties encountered: 0\n"
     ]
    }
   ],
   "source": [
    "# Split the data \n",
    "X = churn_data.drop(columns=['Churn']).values  \n",
    "y = churn_data['Churn'].values\n",
    "\n",
    "# Perform train-test split\n",
    "X_train, X_test, y_train, y_test = train_test_split(X, y, test_size=0.2, random_seed=42)\n",
    "\n",
    "\n",
    "X_train_scaled, X_test_scaled = z_score_scaling(X_train, X_test)\n",
    "\n",
    "# Instantiate and train KNN model\n",
    "knn_model = NearestNeighbours(neighbours=5)\n",
    "knn_model.fit(X_train_scaled, y_train)\n",
    "\n",
    "# Predict on test data\n",
    "predictions = knn_model.predict(X_test_scaled)\n",
    "\n",
    "# Evaluate model\n",
    "knn_model.score(predictions, y_test)\n",
    "knn_model.print_tie_count()\n"
   ]
  },
  {
   "cell_type": "markdown",
   "metadata": {},
   "source": [
    "### Investigating the Best K value FOR K range 1-20"
   ]
  },
  {
   "cell_type": "code",
   "execution_count": 16,
   "metadata": {},
   "outputs": [],
   "source": [
    "def find_best_k(train_features, train_labels, test_features, test_labels, max_k=100):\n",
    "    results = np.zeros(max_k)  # Array to store error rates for each k\n",
    "    \n",
    "    for k in range(1, max_k + 1):\n",
    "        knn = NearestNeighbours(k)  # Initialise KNN model with k neighbours\n",
    "        knn.fit(train_features, train_labels)  # Fit the model on training data\n",
    "        predictions = knn.predict(test_features) \n",
    "        error_rate = knn.error_rate(predictions, test_labels)  \n",
    "        results[k - 1] = error_rate  # Store the error rate at the (k-1) index\n",
    "    \n",
    "    return results\n",
    "\n",
    "def plot_error_rates(error_rates, k_start=1):\n",
    "\n",
    "    # Generate the range of k values starting from k_start\n",
    "    k_values = range(k_start, k_start + len(error_rates))\n",
    "    \n",
    "    # Plot error rates for each k\n",
    "    plt.figure(figsize=(10, 6))\n",
    "    plt.plot(k_values, error_rates, marker='o', linestyle='-', color='b')\n",
    "    plt.title(\"Error Rate for Different k Values in KNN\")\n",
    "    plt.xlabel(\"k (Number of Neighbours)\")\n",
    "    plt.ylabel(\"Error Rate\")\n",
    "    plt.xticks(k_values)\n",
    "    plt.grid(True)\n",
    "    plt.show()\n",
    "\n"
   ]
  },
  {
   "cell_type": "markdown",
   "metadata": {},
   "source": [
    "### Finding best K value in the range 1-20"
   ]
  },
  {
   "cell_type": "code",
   "execution_count": 17,
   "metadata": {},
   "outputs": [
    {
     "data": {
      "image/png": "[encoded data removed]",
      "text/plain": [
       "<Figure size 1000x600 with 1 Axes>"
      ]
     },
     "metadata": {},
     "output_type": "display_data"
    }
   ],
   "source": [
    "# Path to load or save error rates\n",
    "k_range_error_rates_path = os.path.join(checkpoint_dir, \"knn_error_rates_k1_to_k20.pkl\")\n",
    "\n",
    "# Check if error rates have been saved\n",
    "if os.path.exists(k_range_error_rates_path):\n",
    "    # Load previously computed error rates \n",
    "    with open(k_range_error_rates_path, \"rb\") as file:\n",
    "        knn_error_rates_k1_to_k20 = pickle.load(file)\n",
    "else:\n",
    "    # Calculate error rates for k values from 1 to 20\n",
    "    knn_error_rates_k1_to_k20 = find_best_k(X_train_scaled, y_train, X_test_scaled, y_test, max_k=20)\n",
    "    # Save computed error rates \n",
    "    with open(k_range_error_rates_path, \"wb\") as file:\n",
    "        pickle.dump(knn_error_rates_k1_to_k20, file)\n",
    "        \n",
    "plot_error_rates(knn_error_rates_k1_to_k20)"
   ]
  },
  {
   "cell_type": "markdown",
   "metadata": {},
   "source": [
    "### Investigating KNN from range 21-50"
   ]
  },
  {
   "cell_type": "code",
   "execution_count": 18,
   "metadata": {},
   "outputs": [
    {
     "name": "stdout",
     "output_type": "stream",
     "text": [
      "[0.19744318 0.19389205 0.19034091 0.18892045 0.19176136 0.19247159\n",
      " 0.1953125  0.19602273 0.19673295 0.19602273 0.19247159 0.18892045\n",
      " 0.18963068 0.18678977 0.19176136 0.19034091 0.19105114 0.1953125\n",
      " 0.19886364 0.19460227 0.19247159 0.19389205 0.19389205 0.19105114\n",
      " 0.19105114 0.19105114 0.19105114 0.19034091 0.18963068 0.1875    ]\n"
     ]
    },
    {
     "data": {
      "image/png": "[encoded data removed]",
      "text/plain": [
       "<Figure size 1000x600 with 1 Axes>"
      ]
     },
     "metadata": {},
     "output_type": "display_data"
    }
   ],
   "source": [
    "# Path to load or save error rates for k=21 to k=50\n",
    "k_range_error_rates_path = os.path.join(checkpoint_dir, \"knn_error_rates_k21_to_k50.pkl\")\n",
    "\n",
    "# Check if error rates for k=21 to k=50 have already been saved\n",
    "if os.path.exists(k_range_error_rates_path):\n",
    "    # Load previously computed error rates \n",
    "    with open(k_range_error_rates_path, \"rb\") as file:\n",
    "        knn_error_rates_k21_to_k50 = pickle.load(file)\n",
    "else:\n",
    "    # Calculate error rates for k values from 21 to 50\n",
    "    knn_error_rates_k21_to_k50 = find_best_k(X_train_scaled, y_train, X_test_scaled, y_test, max_k=50)[20:]\n",
    "    \n",
    "    # Save computed error rates \n",
    "    with open(k_range_error_rates_path, \"wb\") as file:\n",
    "        pickle.dump(knn_error_rates_k21_to_k50, file)\n",
    "\n",
    "print(knn_error_rates_k21_to_k50)\n",
    "\n",
    "plot_error_rates(knn_error_rates_k21_to_k50,21)\n"
   ]
  },
  {
   "cell_type": "markdown",
   "metadata": {},
   "source": [
    "### Observations on Error Rate for Different k Values in KNN\n",
    "\n",
    "#### Plot 1: k=1 to k=20\n",
    "- **Trend**: Error rate decreases sharply from k=1 to k=10 and then stabilises around k=13.\n",
    "- **Optimal Range**: Error rates level off near 0.19 for k >= 15, values around 15–20 is the optimal range for plot 1.\n",
    "\n",
    "#### Plot 2: k=21 to k=50\n",
    "- **Stability**: Error rates fluctuate slightly but seems exagarrated due to the scaling on the Y-axis\n",
    "    thus remains decently stable from k=21 to k=50.\n",
    "- **Lowest Error Rates**: The minimum error rate (~0.188) which is at k=50, although higher k values may risk underfitting.\n",
    "\n",
    "#### Combined Insight\n",
    "- **Best Range for k**: k=15 to k=35 provides a balance between accuracy and stability.\n",
    "- **Next Step**: I will need to do further tests  in the range k=15 to k=35 to identify the optimal k.\n"
   ]
  },
  {
   "cell_type": "markdown",
   "metadata": {},
   "source": [
    "### Investigating KNN from range 14-35"
   ]
  },
  {
   "cell_type": "code",
   "execution_count": 19,
   "metadata": {},
   "outputs": [
    {
     "name": "stdout",
     "output_type": "stream",
     "text": [
      "[0.19318182 0.19602273 0.19318182 0.19247159 0.19247159 0.19176136\n",
      " 0.19034091 0.19744318 0.19389205 0.19034091 0.18892045 0.19176136\n",
      " 0.19247159 0.1953125  0.19602273 0.19673295 0.19602273 0.19247159\n",
      " 0.18892045 0.18963068 0.18678977 0.19176136]\n"
     ]
    },
    {
     "data": {
      "image/png": "[encoded data removed]",
      "text/plain": [
       "<Figure size 1000x600 with 1 Axes>"
      ]
     },
     "metadata": {},
     "output_type": "display_data"
    }
   ],
   "source": [
    "# Path to load or save error rates for k=14 to k=35\n",
    "k_range_error_rates_path = os.path.join(checkpoint_dir, \"knn_error_rates_k14_to_k35.pkl\")\n",
    "\n",
    "# Check if error rates for k=14 to k=35 have already been saved\n",
    "if os.path.exists(k_range_error_rates_path):\n",
    "    # Load previously computed error rates \n",
    "    with open(k_range_error_rates_path, \"rb\") as file:\n",
    "        knn_error_rates_k14_to_k35 = pickle.load(file)\n",
    "else:\n",
    "    # Calculate error rates for k values from 1 to 35 and slice to get 14 to 35\n",
    "    knn_error_rates_k14_to_k35 = find_best_k(X_train_scaled, y_train, X_test_scaled, y_test, max_k=35)[13:]\n",
    "    \n",
    "    # Save computed error rates \n",
    "    with open(k_range_error_rates_path, \"wb\") as file:\n",
    "        pickle.dump(knn_error_rates_k14_to_k35, file)\n",
    "\n",
    "print(knn_error_rates_k14_to_k35)\n",
    "plot_error_rates(knn_error_rates_k14_to_k35, k_start=14)\n"
   ]
  },
  {
   "cell_type": "markdown",
   "metadata": {},
   "source": [
    "##### Further testing shows that the optimal k value is when k = 34"
   ]
  },
  {
   "cell_type": "markdown",
   "metadata": {},
   "source": [
    "## Conformal Predictor"
   ]
  },
  {
   "cell_type": "markdown",
   "metadata": {},
   "source": [
    "##### Testing on subset of Dataset (size of subset = 3500)"
   ]
  },
  {
   "cell_type": "code",
   "execution_count": 20,
   "metadata": {},
   "outputs": [
    {
     "name": "stdout",
     "output_type": "stream",
     "text": [
      "Training samples: 2800, Test samples: 700\n",
      "Average false p-value loaded from checkpoint.\n",
      "Average false p-value for the test subset: 0.21896261539246187\n"
     ]
    }
   ],
   "source": [
    "avg_false_pval_path = os.path.join(checkpoint_dir, \"avg_false_pval_subset.pkl\")\n",
    "\n",
    "# Use a subset of the dataset\n",
    "X_subset = churn_data.drop(columns=['Churn']).iloc[:3500].values  # Use raw dataset\n",
    "y_subset = churn_data['Churn'].iloc[:3500].values\n",
    "\n",
    "# Perform train-test split\n",
    "X_train, X_test, y_train, y_test = train_test_split(X_subset, y_subset, test_size=0.2, random_seed=42)\n",
    "\n",
    "# Apply Min-Max Scaling \n",
    "X_train_scaled, X_test_scaled = min_max_scaling(X_train, X_test)\n",
    "\n",
    "# Confirm sizes\n",
    "print(f\"Training samples: {len(X_train_scaled)}, Test samples: {len(X_test_scaled)}\")\n",
    "\n",
    "# Train the Conformal model on the subset\n",
    "conformal_model = Conformal()\n",
    "conformal_model.fit(X_train_scaled, y_train)\n",
    "conformal_model.str_test(X_test_scaled, y_test)\n",
    "\n",
    "# Check if avg_false_pval has already been computed and saved\n",
    "if os.path.exists(avg_false_pval_path):\n",
    "    # Load avg_false_pval from the pickle file\n",
    "    with open(avg_false_pval_path, \"rb\") as file:\n",
    "        avg_false_pval_sub = pickle.load(file)\n",
    "    print(\"Average false p-value loaded from checkpoint.\")\n",
    "else:\n",
    "    # Compute average false p-value for the subset\n",
    "    avg_false_pval_sub = conformal_model.avg_false_pval()\n",
    "    \n",
    "    # Save avg_false_pval using pickle\n",
    "    with open(avg_false_pval_path, \"wb\") as file:\n",
    "        pickle.dump(avg_false_pval_sub, file)\n",
    "    print(\"Average false p-value computed and saved.\")\n",
    "\n",
    "# Print the average false p-value\n",
    "print(f\"Average false p-value for the test subset: {avg_false_pval_sub}\")"
   ]
  },
  {
   "cell_type": "markdown",
   "metadata": {},
   "source": [
    "### Average False p-Value of Conformal Predictor\n",
    "\n",
    "#### Key Points:\n",
    "- **Value Observed**: The calculated average false p-value is **0.2189**.\n",
    "- **Interpretation**:\n",
    "  - This value suggests that, there is approximately a 21.89% chance that the conformal predictor misassigns a probability when making predictions on this subset.\n",
    "  - Although this results doesnt represent the accurancy of misscalissfication for churning, a high false p-value means the data doesnt conform well\n",
    "- **Significance**:\n",
    "  - A false p-value of 0.2189 indicates a moderate to low conformity.\n"
   ]
  },
  {
   "cell_type": "markdown",
   "metadata": {},
   "source": [
    "## Further Evaluation of the Optimal k-Value (k=34)\n",
    "#### Testing with Min_Max Normalisation\n",
    "\n"
   ]
  },
  {
   "cell_type": "code",
   "execution_count": 21,
   "metadata": {},
   "outputs": [],
   "source": [
    "X_train_z_scaled, X_test_z_scaled = z_score_scaling(X_train, X_test) #z_score scaling\n",
    "X_train_mx_scaled, X_test_mx_scaled = min_max_scaling(X_train, X_test)# min max scaling"
   ]
  },
  {
   "cell_type": "code",
   "execution_count": 22,
   "metadata": {},
   "outputs": [
    {
     "name": "stdout",
     "output_type": "stream",
     "text": [
      "Metrics loaded from checkpoints.\n",
      "accuracy: 0.80\n",
      "precision: 0.62\n",
      "recall: 0.56\n",
      "f1_score: 0.59\n",
      "f2_score: 0.58\n"
     ]
    }
   ],
   "source": [
    "\n",
    "# Define path for saving metrics\n",
    "metrics_path = os.path.join(\"checkpoints\", \"min_max_opt_k._metrics.pkl\")\n",
    "\n",
    "# Check if metrics already exist\n",
    "if os.path.exists(metrics_path):\n",
    "    # Load saved metrics\n",
    "    with open(metrics_path, \"rb\") as file:\n",
    "        metrics = pickle.load(file)\n",
    "    print(\"Metrics loaded from checkpoints.\")\n",
    "    for metric_name, metric_value in metrics.items():\n",
    "        print(f\"{metric_name}: {metric_value:.2f}\")\n",
    "else:\n",
    "    # Train the KNN model\n",
    "    knn_model = NearestNeighbours(neighbours=34)\n",
    "    knn_model.fit(X_train_mx_scaled, y_train)\n",
    "\n",
    "    # Make predictions\n",
    "    y_pred = knn_model.predict(X_test_mx_scaled)\n",
    "\n",
    "    # Evaluate the model\n",
    "    metrics = ModelEvaluator.calculate_metrics(y_test, y_pred)\n",
    "    print(f\"Metrics for Min-Max Normalisation: {metrics}\")\n",
    "\n",
    "\n",
    "    # Save metrics\n",
    "    with open(metrics_path, \"wb\") as file:\n",
    "        pickle.dump(metrics, file)\n",
    "    print(f\"Metrics saved to {metrics_path}.\")\n"
   ]
  },
  {
   "cell_type": "markdown",
   "metadata": {},
   "source": [
    "#### Testing optimal K value with z-score Normalisation"
   ]
  },
  {
   "cell_type": "code",
   "execution_count": 23,
   "metadata": {},
   "outputs": [
    {
     "name": "stdout",
     "output_type": "stream",
     "text": [
      "Metrics loaded from checkpoints.\n",
      "accuracy: 0.81\n",
      "precision: 0.66\n",
      "recall: 0.59\n",
      "f1_score: 0.63\n",
      "f2_score: 0.60\n"
     ]
    }
   ],
   "source": [
    "# Define path for saving metrics\n",
    "metrics_path = os.path.join(\"checkpoints\", \"z_score_opt_k._metrics.pkl\")\n",
    "\n",
    "# Check if metrics already exist\n",
    "if os.path.exists(metrics_path):\n",
    "    # Load saved metrics\n",
    "    with open(metrics_path, \"rb\") as file:\n",
    "        metrics = pickle.load(file)\n",
    "    print(\"Metrics loaded from checkpoints.\")\n",
    "    for metric_name, metric_value in metrics.items():\n",
    "        print(f\"{metric_name}: {metric_value:.2f}\")\n",
    "else:\n",
    "    # Train the KNN model\n",
    "    knn_model = NearestNeighbours(neighbours=34)\n",
    "    knn_model.fit(X_train_z_scaled, y_train)\n",
    "\n",
    "    # Make predictions\n",
    "    y_pred = knn_model.predict(X_test_z_scaled)\n",
    "\n",
    "    # Evaluate the model\n",
    "    metrics = ModelEvaluator.calculate_metrics(y_test, y_pred)\n",
    "    print(f\"Metrics for z-score Normalisation: {metrics}\")\n",
    "\n",
    "\n",
    "    # Save metrics\n",
    "    with open(metrics_path, \"wb\") as file:\n",
    "        pickle.dump(metrics, file)\n",
    "    print(f\"Metrics saved to {metrics_path}.\")"
   ]
  },
  {
   "cell_type": "markdown",
   "metadata": {},
   "source": [
    "### Comparison of min_max and Z_score Noramlisation when k=34(Optimal value)"
   ]
  },
  {
   "cell_type": "code",
   "execution_count": 24,
   "metadata": {},
   "outputs": [
    {
     "data": {
      "image/png": "[encoded data removed]",
      "text/plain": [
       "<Figure size 1000x600 with 1 Axes>"
      ]
     },
     "metadata": {},
     "output_type": "display_data"
    }
   ],
   "source": [
    "file_paths = [\n",
    "    \"Checkpoints\\min_max_opt_k._metrics.pkl\",\n",
    "    \"Checkpoints\\z_score_opt_k._metrics.pkl\" \n",
    "]\n",
    "\n",
    "labels = [\"Min-Max Scaling\", \"Z-Score Scaling\"]\n",
    "\n",
    "ModelEvaluator.compare_and_visualise_metrics(file_paths, labels)"
   ]
  },
  {
   "cell_type": "markdown",
   "metadata": {},
   "source": [
    "## Evaluation Metric Comparison: Min-Max Scaling vs. Z-Score Scaling"
   ]
  },
  {
   "cell_type": "markdown",
   "metadata": {},
   "source": [
    "The bar chart compares two different data scaling methods—Min-Max Scaling and Z-Score Scaling—across various evaluation metrics: accuracy, precision, recall, f1_score, and f2_score. I shall give my Obseervations:\n",
    "\n",
    "- **Accuracy**: Both scaling methods show very similar accuracy, with Z-Score Scaling slightly outperforming Min-Max Scaling.\n",
    "- **Precision**: Z-Score Scaling has a marginal edge over Min-Max Scaling.\n",
    "- **Recall**: The recall is slightly better with Min-Max Scaling compared to Z-Score Scaling.\n",
    "- **F1 Score**: Z-Score Scaling shows a slightly higher f1_score, indicating a balanced precision-recall trade-off with this scaling method.\n",
    "- **F2 Score**: The f2_score, which weights recall higher than precision, is slightly better with Min-Max Scaling.\n",
    "\n",
    "### Conclusion\n",
    "The choice between Min-Max Scaling and Z-Score Scaling does not significantly impact the model's performance in terms of accuracy and f1_score.However z-score still performs slightly better overall and given the cost of false negatives."
   ]
  },
  {
   "cell_type": "markdown",
   "metadata": {},
   "source": [
    "## Decision Tree Model \n",
    "#### We shall test Decision tree model using 3 different types of uniformity measures Entropy loss, Gini impuirty, Classification error"
   ]
  },
  {
   "cell_type": "code",
   "execution_count": 38,
   "metadata": {},
   "outputs": [],
   "source": [
    "import importlib\n",
    "import Models.decision_tree  # Import the module first (not just the class)\n",
    "\n",
    "# Reload the module to apply changes\n",
    "importlib.reload(Models.decision_tree)\n",
    "\n",
    "# Import the updated class explicitly if needed\n",
    "from Models.decision_tree import DecisionTree"
   ]
  },
  {
   "cell_type": "code",
   "execution_count": 26,
   "metadata": {},
   "outputs": [],
   "source": [
    "# Split data into training and testing sets\n",
    "X_train, X_test, y_train, y_test = train_test_split(X, y, test_size=0.3, random_seed=42)\n",
    "X_train_mx_scaled, X_test_mx_scaled = min_max_scaling(X_train, X_test)  # min max scaling"
   ]
  },
  {
   "cell_type": "markdown",
   "metadata": {},
   "source": [
    "##### Gini Impurity Measure"
   ]
  },
  {
   "cell_type": "code",
   "execution_count": 53,
   "metadata": {},
   "outputs": [
    {
     "name": "stdout",
     "output_type": "stream",
     "text": [
      "Metrics for gini: {'accuracy': 0.7930871212121212, 'precision': 0.6195462478184991, 'recall': 0.6184668989547039, 'f1_score': 0.6190061028770706, 'f2_score': 0.618682467758801}\n"
     ]
    }
   ],
   "source": [
    "# Create an instance of the DecisionTree class\n",
    "tree = DecisionTree(uniformity_measure=\"gini\", max_depth=5, min_samples_split=10)\n",
    "tree.fit(X_train_mx_scaled, y_train)\n",
    "\n",
    "# Make predictions\n",
    "y_pred = tree.predict(X_test_mx_scaled)\n",
    "\n",
    "# Evaluate the model\n",
    "gini_metrics = ModelEvaluator.calculate_metrics(y_test, y_pred)\n",
    "print(f\"Metrics for gini: {gini_metrics}\")"
   ]
  },
  {
   "cell_type": "markdown",
   "metadata": {},
   "source": [
    "#### Entropy Loss"
   ]
  },
  {
   "cell_type": "code",
   "execution_count": 54,
   "metadata": {},
   "outputs": [
    {
     "name": "stdout",
     "output_type": "stream",
     "text": [
      "Metrics for entropy: {'accuracy': 0.7888257575757576, 'precision': 0.6159420289855072, 'recall': 0.5923344947735192, 'f1_score': 0.6039076376554173, 'f2_score': 0.5969101123595506}\n"
     ]
    }
   ],
   "source": [
    "# Create an instance of the DecisionTree class\n",
    "tree = DecisionTree(uniformity_measure=\"entropy\", max_depth=5, min_samples_split=10)\n",
    "tree.fit(X_train_mx_scaled, y_train)\n",
    "\n",
    "# Make predictions\n",
    "y_pred = tree.predict(X_test_mx_scaled)\n",
    "\n",
    "# Evaluate the model\n",
    "entropy_metrics = ModelEvaluator.calculate_metrics(y_test, y_pred)\n",
    "print(f\"Metrics for entropy: {entropy_metrics}\")"
   ]
  },
  {
   "cell_type": "markdown",
   "metadata": {},
   "source": [
    "##### Classification Error"
   ]
  },
  {
   "cell_type": "code",
   "execution_count": 55,
   "metadata": {},
   "outputs": [
    {
     "name": "stdout",
     "output_type": "stream",
     "text": [
      "Metrics for classification error: {'accuracy': 0.7660984848484849, 'precision': 0.636986301369863, 'recall': 0.3240418118466899, 'f1_score': 0.4295612009237875, 'f2_score': 0.3593508500772797}\n"
     ]
    }
   ],
   "source": [
    "# Create an instance of the DecisionTree class\n",
    "tree = DecisionTree(uniformity_measure=\"error\", max_depth=5, min_samples_split=10)\n",
    "tree.fit(X_train_mx_scaled, y_train)\n",
    "\n",
    "# Make predictions\n",
    "y_pred = tree.predict(X_test_mx_scaled)\n",
    "\n",
    "# Evaluate the model\n",
    "class_err_metrics = ModelEvaluator.calculate_metrics(y_test, y_pred)\n",
    "print(f\"Metrics for classification error: {class_err_metrics}\")"
   ]
  },
  {
   "cell_type": "markdown",
   "metadata": {},
   "source": [
    "### Visual Comparison of Different Unifomity measures in Decision Trees Model."
   ]
  },
  {
   "cell_type": "code",
   "execution_count": 57,
   "metadata": {},
   "outputs": [
    {
     "data": {
      "image/png": "[encoded data removed]",
      "text/plain": [
       "<Figure size 800x600 with 1 Axes>"
      ]
     },
     "metadata": {},
     "output_type": "display_data"
    },
    {
     "data": {
      "image/png": "[encoded data removed]",
      "text/plain": [
       "<Figure size 1000x600 with 1 Axes>"
      ]
     },
     "metadata": {},
     "output_type": "display_data"
    }
   ],
   "source": [
    "uniformity_results = {\n",
    "    \"Gini\": gini_metrics,\n",
    "    \"Entropy\": entropy_metrics,\n",
    "    \"Classification Error\": class_err_metrics\n",
    "}\n",
    "\n",
    "# Convert uniformity_results to a DataFrame\n",
    "df_metrics = pd.DataFrame(uniformity_results).transpose()\n",
    "\n",
    "# Plot the DataFrame as a grouped bar chart\n",
    "ax = df_metrics.plot(kind='bar', figsize=(8, 6), width=0.8)\n",
    "\n",
    "# Add labels and title\n",
    "plt.xlabel(\"Uniformity Criteria\")\n",
    "plt.ylabel(\"Metric Values\")\n",
    "plt.title(\"Comparative Metrics for Gini, Entropy, and Classification Error\")\n",
    "\n",
    "# Add legend\n",
    "plt.legend(title=\"Metrics\", loc=\"best\")\n",
    "\n",
    "# Display the plot\n",
    "plt.tight_layout()\n",
    "plt.show()\n",
    "\n",
    "\n",
    "# Plot a line chart\n",
    "plt.figure(figsize=(10, 6))\n",
    "for metric in df_metrics.columns:\n",
    "    plt.plot(df_metrics.index, df_metrics[metric], marker='o', label=metric)\n",
    "\n",
    "plt.xlabel(\"Uniformity Criteria\")\n",
    "plt.ylabel(\"Metric Values\")\n",
    "plt.title(\"Metric results Across Different Uniformity measures\")\n",
    "plt.legend(title=\"Metrics\")\n",
    "plt.grid(True)\n",
    "plt.tight_layout()\n",
    "plt.show()\n",
    "\n"
   ]
  }
 ],
 "metadata": {
  "kernelspec": {
   "display_name": "base",
   "language": "python",
   "name": "python3"
  },
  "language_info": {
   "codemirror_mode": {
    "name": "ipython",
    "version": 3
   },
   "file_extension": ".py",
   "mimetype": "text/x-python",
   "name": "python",
   "nbconvert_exporter": "python",
   "pygments_lexer": "ipython3",
   "version": "3.9.13"
  }
 },
 "nbformat": 4,
 "nbformat_minor": 2
}
